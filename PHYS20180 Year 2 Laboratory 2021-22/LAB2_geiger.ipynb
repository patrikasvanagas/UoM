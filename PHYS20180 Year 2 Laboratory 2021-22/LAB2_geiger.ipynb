{
  "nbformat": 4,
  "nbformat_minor": 0,
  "metadata": {
    "colab": {
      "provenance": []
    },
    "kernelspec": {
      "name": "python3",
      "display_name": "Python 3"
    },
    "language_info": {
      "name": "python"
    }
  },
  "cells": [
    {
      "cell_type": "code",
      "metadata": {
        "id": "87L57awwjJ2F"
      },
      "source": [
        "import numpy as np \n",
        "import matplotlib.pyplot as plt\n",
        "import pandas as pd\n",
        "import scipy.optimize\n",
        "from google.colab import files\n",
        "\n",
        "from google.colab import auth\n",
        "auth.authenticate_user()\n",
        "import gspread\n",
        "from oauth2client.client import GoogleCredentials\n",
        "gc = gspread.authorize(GoogleCredentials.get_application_default())"
      ],
      "execution_count": null,
      "outputs": []
    },
    {
      "cell_type": "code",
      "metadata": {
        "id": "YLeLwV7um_w5",
        "colab": {
          "base_uri": "https://localhost:8080/"
        },
        "outputId": "3e976959-7147-4097-f018-841af864dfb8"
      },
      "source": [
        "measured_voltage = np.array([474,475.5,480,492,504,518,532,543,558,569,583,596,608,624.5,638,653,668,684,695,695,695])\n",
        "count_rate = np.array([0,0,0.12,0.14,0.15,0.16,0.16,0.16,0.175,0.175,0.18,0.19,0.2,0.23,0.25,0.275,0.29,0.29,0.31,0.32,0.33])\n",
        "e_count_rate = np.array([0.001,0.001,0.013,0.02,0.02,0.02,0.025,0.02,0.02,0.02,0.025,0.025,0.02,0.025,0.03,0.03,0.03,0.05,0.05,0.05,0.025])\n",
        "e_log_count_rate = count_rate**(-1)*e_count_rate"
      ],
      "execution_count": null,
      "outputs": [
        {
          "output_type": "stream",
          "name": "stderr",
          "text": [
            "/usr/local/lib/python3.7/dist-packages/ipykernel_launcher.py:4: RuntimeWarning: divide by zero encountered in reciprocal\n",
            "  after removing the cwd from sys.path.\n"
          ]
        }
      ]
    },
    {
      "cell_type": "code",
      "metadata": {
        "colab": {
          "base_uri": "https://localhost:8080/",
          "height": 447
        },
        "id": "uMx1EP5UnuoN",
        "outputId": "d25ba31d-3ed8-4b71-e6d2-1b94d1fd5a41"
      },
      "source": [
        "plt.style.use('seaborn')\n",
        "plt.rcParams.update({'lines.markeredgewidth': 1})\n",
        "plt.errorbar(measured_voltage, np.log(count_rate), e_log_count_rate, fmt='o', capsize=3, color='black')\n",
        "plt.title('Applied voltage vs log measured count rate, Pb210')\n",
        "plt.xlabel('Applied voltage, V')\n",
        "plt.ylabel('Log Count rate')\n",
        "plt.savefig(\"a.png\",dpi=400)\n",
        "files.download('a.png')"
      ],
      "execution_count": null,
      "outputs": [
        {
          "output_type": "stream",
          "name": "stderr",
          "text": [
            "/usr/local/lib/python3.7/dist-packages/ipykernel_launcher.py:3: RuntimeWarning: divide by zero encountered in log\n",
            "  This is separate from the ipykernel package so we can avoid doing imports until\n",
            "/usr/local/lib/python3.7/dist-packages/matplotlib/axes/_axes.py:3324: RuntimeWarning: invalid value encountered in double_scalars\n",
            "  high = [v + e for v, e in zip(data, b)]\n"
          ]
        },
        {
          "output_type": "display_data",
          "data": {
            "application/javascript": [
              "\n",
              "    async function download(id, filename, size) {\n",
              "      if (!google.colab.kernel.accessAllowed) {\n",
              "        return;\n",
              "      }\n",
              "      const div = document.createElement('div');\n",
              "      const label = document.createElement('label');\n",
              "      label.textContent = `Downloading \"${filename}\": `;\n",
              "      div.appendChild(label);\n",
              "      const progress = document.createElement('progress');\n",
              "      progress.max = size;\n",
              "      div.appendChild(progress);\n",
              "      document.body.appendChild(div);\n",
              "\n",
              "      const buffers = [];\n",
              "      let downloaded = 0;\n",
              "\n",
              "      const channel = await google.colab.kernel.comms.open(id);\n",
              "      // Send a message to notify the kernel that we're ready.\n",
              "      channel.send({})\n",
              "\n",
              "      for await (const message of channel.messages) {\n",
              "        // Send a message to notify the kernel that we're ready.\n",
              "        channel.send({})\n",
              "        if (message.buffers) {\n",
              "          for (const buffer of message.buffers) {\n",
              "            buffers.push(buffer);\n",
              "            downloaded += buffer.byteLength;\n",
              "            progress.value = downloaded;\n",
              "          }\n",
              "        }\n",
              "      }\n",
              "      const blob = new Blob(buffers, {type: 'application/binary'});\n",
              "      const a = document.createElement('a');\n",
              "      a.href = window.URL.createObjectURL(blob);\n",
              "      a.download = filename;\n",
              "      div.appendChild(a);\n",
              "      a.click();\n",
              "      div.remove();\n",
              "    }\n",
              "  "
            ],
            "text/plain": [
              "<IPython.core.display.Javascript object>"
            ]
          },
          "metadata": {}
        },
        {
          "output_type": "display_data",
          "data": {
            "application/javascript": [
              "download(\"download_0b06c939-10f4-46a8-816a-6de05cebda4b\", \"a.png\", 134882)"
            ],
            "text/plain": [
              "<IPython.core.display.Javascript object>"
            ]
          },
          "metadata": {}
        },
        {
          "output_type": "display_data",
          "data": {
            "image/png": "[encoded data removed]",
            "text/plain": [
              "<Figure size 576x396 with 1 Axes>"
            ]
          },
          "metadata": {}
        }
      ]
    },
    {
      "cell_type": "code",
      "metadata": {
        "colab": {
          "base_uri": "https://localhost:8080/",
          "height": 317
        },
        "id": "jn6Hp6Mcny0U",
        "outputId": "4d7b18c7-0a3b-4740-a498-d08819f0dbf1"
      },
      "source": [
        "plt.scatter(measured_voltage,np.log(count_rate))"
      ],
      "execution_count": null,
      "outputs": [
        {
          "output_type": "stream",
          "name": "stderr",
          "text": [
            "/usr/local/lib/python3.7/dist-packages/ipykernel_launcher.py:1: RuntimeWarning: divide by zero encountered in log\n",
            "  \"\"\"Entry point for launching an IPython kernel.\n"
          ]
        },
        {
          "output_type": "execute_result",
          "data": {
            "text/plain": [
              "<matplotlib.collections.PathCollection at 0x7f0e808b8b10>"
            ]
          },
          "metadata": {},
          "execution_count": 7
        },
        {
          "output_type": "display_data",
          "data": {
            "image/png": "[encoded data removed]",
            "text/plain": [
              "<Figure size 432x288 with 1 Axes>"
            ]
          },
          "metadata": {
            "needs_background": "light"
          }
        }
      ]
    },
    {
      "cell_type": "code",
      "metadata": {
        "id": "cwb5smMZoY4a",
        "colab": {
          "base_uri": "https://localhost:8080/"
        },
        "outputId": "99ef1173-7cdc-42fa-c018-ea874a7aacca"
      },
      "source": [
        "# https://docs.google.com/spreadsheets/d/1U12AJLkDTC0x-WsK32YrAJg1v6virGZJVvG06b0lTCo/edit?usp=sharing\n",
        "\n",
        "wb = gc.open_by_url('https://docs.google.com/spreadsheets/d/1U12AJLkDTC0x-WsK32YrAJg1v6virGZJVvG06b0lTCo/edit?usp=sharing')\n",
        "sheet = wb.worksheet('6 241Am')\n",
        "data = sheet.get_all_values()\n",
        "df = pd.DataFrame(data)\n",
        "# df.columns = df.iloc[0]\n",
        "# df = df.iloc[1:]\n",
        "values = np.array(df[0][1:])\n",
        "values = values.astype(float)\n",
        "values.sort()\n",
        "print(np.mean(values))\n",
        "print(np.std(values))"
      ],
      "execution_count": null,
      "outputs": [
        {
          "output_type": "stream",
          "name": "stdout",
          "text": [
            "0.2131930693069307\n",
            "0.012462909386709636\n"
          ]
        }
      ]
    },
    {
      "cell_type": "code",
      "metadata": {
        "colab": {
          "base_uri": "https://localhost:8080/",
          "height": 362
        },
        "id": "YVG5ovBgzq-p",
        "outputId": "9c001486-7a62-4a09-e08f-bd77fa35dda6"
      },
      "source": [
        "a = plt.hist(values, len(np.unique(values)),density=True)\n",
        "# a = plt.hist(values, len(np.unique(values)), density=0)\n",
        "# plt.style.use('seaborn')\n",
        "# plt.rcParams.update({'lines.markeredgewidth': 1})\n",
        "# plt.errorbar(measured_voltage, np.log(count_rate), e_log_count_rate, fmt='o', capsize=3, color='black')\n",
        "plt.title('Am241 Histogram')\n",
        "# plt.xlabel('Applied voltage, V')\n",
        "# plt.ylabel('Log Count rate')\n",
        "plt.savefig(\"a.png\",dpi=400)\n",
        "files.download('a.png')"
      ],
      "execution_count": null,
      "outputs": [
        {
          "output_type": "display_data",
          "data": {
            "application/javascript": [
              "\n",
              "    async function download(id, filename, size) {\n",
              "      if (!google.colab.kernel.accessAllowed) {\n",
              "        return;\n",
              "      }\n",
              "      const div = document.createElement('div');\n",
              "      const label = document.createElement('label');\n",
              "      label.textContent = `Downloading \"${filename}\": `;\n",
              "      div.appendChild(label);\n",
              "      const progress = document.createElement('progress');\n",
              "      progress.max = size;\n",
              "      div.appendChild(progress);\n",
              "      document.body.appendChild(div);\n",
              "\n",
              "      const buffers = [];\n",
              "      let downloaded = 0;\n",
              "\n",
              "      const channel = await google.colab.kernel.comms.open(id);\n",
              "      // Send a message to notify the kernel that we're ready.\n",
              "      channel.send({})\n",
              "\n",
              "      for await (const message of channel.messages) {\n",
              "        // Send a message to notify the kernel that we're ready.\n",
              "        channel.send({})\n",
              "        if (message.buffers) {\n",
              "          for (const buffer of message.buffers) {\n",
              "            buffers.push(buffer);\n",
              "            downloaded += buffer.byteLength;\n",
              "            progress.value = downloaded;\n",
              "          }\n",
              "        }\n",
              "      }\n",
              "      const blob = new Blob(buffers, {type: 'application/binary'});\n",
              "      const a = document.createElement('a');\n",
              "      a.href = window.URL.createObjectURL(blob);\n",
              "      a.download = filename;\n",
              "      div.appendChild(a);\n",
              "      a.click();\n",
              "      div.remove();\n",
              "    }\n",
              "  "
            ],
            "text/plain": [
              "<IPython.core.display.Javascript object>"
            ]
          },
          "metadata": {}
        },
        {
          "output_type": "display_data",
          "data": {
            "application/javascript": [
              "download(\"download_91988b07-237b-4c44-bd38-326f20d25b9b\", \"a.png\", 69459)"
            ],
            "text/plain": [
              "<IPython.core.display.Javascript object>"
            ]
          },
          "metadata": {}
        },
        {
          "output_type": "display_data",
          "data": {
            "image/png": "[encoded data removed]",
            "text/plain": [
              "<Figure size 576x396 with 1 Axes>"
            ]
          },
          "metadata": {}
        }
      ]
    },
    {
      "cell_type": "code",
      "metadata": {
        "colab": {
          "base_uri": "https://localhost:8080/"
        },
        "id": "gx3quxpOjPKs",
        "outputId": "9f30b04c-f9a6-4b5e-ed60-ea3365947972"
      },
      "source": [
        "a[1][31]"
      ],
      "execution_count": null,
      "outputs": [
        {
          "output_type": "execute_result",
          "data": {
            "text/plain": [
              "0.162"
            ]
          },
          "metadata": {},
          "execution_count": 14
        }
      ]
    },
    {
      "cell_type": "code",
      "metadata": {
        "colab": {
          "base_uri": "https://localhost:8080/"
        },
        "id": "Cob4iSBcaUui",
        "outputId": "3aa2ae7e-1f7d-4755-dd3a-51429fd6d2f9"
      },
      "source": [
        "np.std(values)\n",
        "# error - sqrt of frequency on that bar OR look at the whole interval \n"
      ],
      "execution_count": null,
      "outputs": [
        {
          "output_type": "execute_result",
          "data": {
            "text/plain": [
              "0.012829485326777534"
            ]
          },
          "metadata": {},
          "execution_count": 170
        }
      ]
    },
    {
      "cell_type": "code",
      "metadata": {
        "colab": {
          "base_uri": "https://localhost:8080/"
        },
        "id": "LS5IIEtD0wke",
        "outputId": "82cc11e0-3965-43c8-89d2-dcf71233ac45"
      },
      "source": [
        "'''A = 0\n",
        "for i in range(len(a[0])):\n",
        "  dA = np.sum(a[0][i]) * a[1][0]\n",
        "  A += dA'''\n",
        "\n",
        "A = np.sum(a[0]) * (a[1][1]-a[1][0])\n",
        "\n"
      ],
      "execution_count": null,
      "outputs": [
        {
          "output_type": "execute_result",
          "data": {
            "text/plain": [
              "1.0000000000000044"
            ]
          },
          "metadata": {},
          "execution_count": 167
        }
      ]
    },
    {
      "cell_type": "code",
      "metadata": {
        "id": "Q81jZhwcVXno"
      },
      "source": [
        "# https://docs.google.com/spreadsheets/d/1U12AJLkDTC0x-WsK32YrAJg1v6virGZJVvG06b0lTCo/edit?usp=sharing\n",
        "\n",
        "stop = 90\n",
        "\n",
        "wb = gc.open_by_url('https://docs.google.com/spreadsheets/d/1U12AJLkDTC0x-WsK32YrAJg1v6virGZJVvG06b0lTCo/edit?usp=sharing')\n",
        "sheet = wb.worksheet('exp 7')\n",
        "data = sheet.get_all_values()\n",
        "df = pd.DataFrame(data)\n",
        "# df.columns = df.iloc[0]\n",
        "# df = df.iloc[1:]\n",
        "time = np.array(df[1][1:][:stop])\n",
        "time = time.astype(float)\n",
        "\n",
        "counts = np.array(df[2][1:][:stop])\n",
        "counts = counts.astype(float)"
      ],
      "execution_count": null,
      "outputs": []
    },
    {
      "cell_type": "code",
      "metadata": {
        "colab": {
          "base_uri": "https://localhost:8080/"
        },
        "id": "6WvogkCiiRQy",
        "outputId": "aae2feb1-57b7-4c48-8d6c-c174c3dfb7cc"
      },
      "source": [
        "counts"
      ],
      "execution_count": null,
      "outputs": [
        {
          "output_type": "execute_result",
          "data": {
            "text/plain": [
              "array([   0.,   21.,   46.,   68.,   97.,  120.,  149.,  176.,  207.,\n",
              "        235.,  263.,  288.,  307.,  337.,  356.,  390.,  418.,  451.,\n",
              "        477.,  505.,  530.,  555.,  581.,  604.,  630.,  652.,  676.,\n",
              "        699.,  720.,  746.,  784.,  817.,  847.,  882.,  910.,  933.,\n",
              "        957.,  984., 1010., 1038., 1069., 1092., 1119., 1140., 1161.,\n",
              "       1187., 1214., 1243., 1263., 1289.])"
            ]
          },
          "metadata": {},
          "execution_count": 120
        }
      ]
    },
    {
      "cell_type": "code",
      "metadata": {
        "colab": {
          "base_uri": "https://localhost:8080/",
          "height": 282
        },
        "id": "z64p4gWZWC8A",
        "outputId": "798df46c-2556-4cf3-82d6-475ff65b4144"
      },
      "source": [
        "plt.plot(time,counts)"
      ],
      "execution_count": null,
      "outputs": [
        {
          "output_type": "execute_result",
          "data": {
            "text/plain": [
              "[<matplotlib.lines.Line2D at 0x7fc71bf892d0>]"
            ]
          },
          "metadata": {},
          "execution_count": 121
        },
        {
          "output_type": "display_data",
          "data": {
            "image/png": "[encoded data removed]",
            "text/plain": [
              "<Figure size 432x288 with 1 Axes>"
            ]
          },
          "metadata": {
            "needs_background": "light"
          }
        }
      ]
    },
    {
      "cell_type": "code",
      "metadata": {
        "colab": {
          "base_uri": "https://localhost:8080/",
          "height": 333
        },
        "id": "2D94s0NtWD-c",
        "outputId": "398e815d-edf7-47b0-a38b-d30bab002bdc"
      },
      "source": [
        "def decay(time, N_0, decay_constant):\n",
        "    return N_0 * (1 - np.exp(-decay_constant * time))\n",
        "\n",
        "# perform the fit\n",
        "p0 = (2000, 0.0002139343) # start with values near those we expect\n",
        "params, cv = scipy.optimize.curve_fit(decay, time, counts, p0)\n",
        "N_0, decay_constant = params\n",
        "# sampleRate = 20_000 # Hz\n",
        "# tauSec = (1 / t) / sampleRate\n",
        "\n",
        "# determine quality of the fit\n",
        "squaredDiffs = np.square(counts - decay(time, N_0, decay_constant))\n",
        "squaredDiffsFromMean = np.square(counts - np.mean(counts))\n",
        "rSquared = 1 - np.sum(squaredDiffs) / np.sum(squaredDiffsFromMean)\n",
        "print(f\"R² = {rSquared}\")\n",
        "\n",
        "# plot the results\n",
        "plt.plot(time, counts, '.', label=\"data\")\n",
        "plt.plot(time, decay(time, N_0, decay_constant), '--', label=\"fitted\")\n",
        "plt.title(\"Fitted Exponential Curve\")\n",
        "print('Half life is ' + str((np.log(2)/params[1])/60)+ ' minutes')\n",
        "params[1]\n",
        "\n",
        "# # inspect the parameters\n",
        "# print(f\"Y = {m} * e^(-{t} * x) + {b}\")\n",
        "# print(f\"Tau = {tauSec * 1e6} µs\")"
      ],
      "execution_count": null,
      "outputs": [
        {
          "output_type": "stream",
          "name": "stdout",
          "text": [
            "R² = 0.9997543050391405\n",
            "Half life is 967.0382516769009 minutes\n"
          ]
        },
        {
          "output_type": "execute_result",
          "data": {
            "text/plain": [
              "1.1946221350913256e-05"
            ]
          },
          "metadata": {},
          "execution_count": 5
        },
        {
          "output_type": "display_data",
          "data": {
            "image/png": "[encoded data removed]",
            "text/plain": [
              "<Figure size 432x288 with 1 Axes>"
            ]
          },
          "metadata": {
            "needs_background": "light"
          }
        }
      ]
    },
    {
      "cell_type": "code",
      "metadata": {
        "colab": {
          "base_uri": "https://localhost:8080/",
          "height": 333
        },
        "id": "k-sFW-9PWpWg",
        "outputId": "6a52289e-a286-4f75-d86d-6a635c05d25d"
      },
      "source": [
        "def decay(time, decay_constant):\n",
        "    return (1 - np.exp(-decay_constant * time))\n",
        "\n",
        "# perform the fit\n",
        "p0 = (0.0002139343) # start with values near those we expect\n",
        "params, cv = scipy.optimize.curve_fit(decay, time, counts, p0)\n",
        "decay_constant = params\n",
        "# sampleRate = 20_000 # Hz\n",
        "# tauSec = (1 / t) / sampleRate\n",
        "\n",
        "# determine quality of the fit\n",
        "squaredDiffs = np.square(counts - decay(time, decay_constant))\n",
        "squaredDiffsFromMean = np.square(counts - np.mean(counts))\n",
        "rSquared = 1 - np.sum(squaredDiffs) / np.sum(squaredDiffsFromMean)\n",
        "print(f\"R² = {rSquared}\")\n",
        "\n",
        "# plot the results\n",
        "plt.plot(time, counts, '.', label=\"data\")\n",
        "plt.plot(time, decay(time, decay_constant), '--', label=\"fitted\")\n",
        "plt.title(\"Fitted Exponential Curve\")\n",
        "print('Half life is ' + str(np.log(2)/params[0]/60)+ ' minutes')\n",
        "params[0]\n",
        "\n",
        "# # inspect the parameters\n",
        "# print(f\"Y = {m} * e^(-{t} * x) + {b}\")\n",
        "# print(f\"Tau = {tauSec * 1e6} µs\")"
      ],
      "execution_count": null,
      "outputs": [
        {
          "output_type": "stream",
          "name": "stdout",
          "text": [
            "R² = -2.967921492493873\n",
            "Half life is 0.17966069675457857 minutes\n"
          ]
        },
        {
          "output_type": "execute_result",
          "data": {
            "text/plain": [
              "0.06430150399067742"
            ]
          },
          "metadata": {},
          "execution_count": 6
        },
        {
          "output_type": "display_data",
          "data": {
            "image/png": "[encoded data removed]",
            "text/plain": [
              "<Figure size 432x288 with 1 Axes>"
            ]
          },
          "metadata": {
            "needs_background": "light"
          }
        }
      ]
    },
    {
      "cell_type": "code",
      "metadata": {
        "colab": {
          "base_uri": "https://localhost:8080/"
        },
        "id": "3Hfn9PGaY0wq",
        "outputId": "696b6ed8-feea-45f6-b258-394d448dfa25"
      },
      "source": [],
      "execution_count": null,
      "outputs": [
        {
          "output_type": "stream",
          "name": "stdout",
          "text": [
            "Half life is 713.7997915112061 minutes\n"
          ]
        }
      ]
    },
    {
      "cell_type": "code",
      "metadata": {
        "colab": {
          "base_uri": "https://localhost:8080/"
        },
        "id": "sGiUf189cz9v",
        "outputId": "eeaf14eb-f6a0-4fd6-b7cb-51f8da40d9d8"
      },
      "source": [],
      "execution_count": null,
      "outputs": [
        {
          "output_type": "execute_result",
          "data": {
            "text/plain": [
              "9.78677447179476e-06"
            ]
          },
          "metadata": {},
          "execution_count": 87
        }
      ]
    },
    {
      "cell_type": "code",
      "metadata": {
        "id": "gwbZsUu_fUqI"
      },
      "source": [],
      "execution_count": null,
      "outputs": []
    }
  ]
}