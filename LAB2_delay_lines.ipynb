{
  "nbformat": 4,
  "nbformat_minor": 0,
  "metadata": {
    "colab": {
      "provenance": []
    },
    "kernelspec": {
      "name": "python3",
      "display_name": "Python 3"
    },
    "language_info": {
      "name": "python"
    }
  },
  "cells": [
    {
      "cell_type": "code",
      "metadata": {
        "id": "8J2ukhbEvPk0"
      },
      "source": [
        "import numpy as np\n",
        "import matplotlib.pyplot as plt\n",
        "from google.colab import files"
      ],
      "execution_count": null,
      "outputs": []
    },
    {
      "cell_type": "code",
      "metadata": {
        "id": "c7Os7ZsPvROv"
      },
      "source": [
        "# plt.errorbar(t,v,err_v,fmt='.k')\n",
        "# plt.plot((t[peak_t]), v[peak_t],'r+')\n",
        "# plt.title(\"Free,0ma.xlsx, \"+str(a)+\":\"+str(b))\n",
        "# plt.xlabel(\"Time, s\")\n",
        "# plt.ylabel(\"Amplitude, arbitrary\")"
      ],
      "execution_count": null,
      "outputs": []
    },
    {
      "cell_type": "code",
      "metadata": {
        "colab": {
          "base_uri": "https://localhost:8080/",
          "height": 295
        },
        "id": "IaXnrRvevT1f",
        "outputId": "07396bca-acbd-46ca-e09c-13a40d029bfa"
      },
      "source": [
        "# 5.1 zl infty\n",
        "\n",
        "v_in = np.array([1.98,1.54,1.1,0.66,0.64,1.3,1.52,1.62,1.54,1.34,0.66,0.64,1.3,1.58,1.3,0.66,0.7,1.34,1.54,1.26,0.62,0.74,1.36,1.52])\n",
        "e_v_in = np.ones(len(v_in)) * 0.02\n",
        "f = np.array([1,5,7.5,10,15,20,22.5,25,27.5,30,35,40,45,50,55,60,65,70,75,80,85,90,95,100])\n",
        "\n",
        "plt.errorbar(f, v_in, e_v_in, fmt='.k')\n",
        "plt.title(\"5.1 a 1, open circuit, V_in vs frequency\")\n",
        "plt.xlabel(\"Frequency, kHz\")\n",
        "plt.ylabel(\"V_in, V\")\n",
        "\n",
        "plt.savefig('test.png', dpi = 400)\n",
        "files.download('test.png')"
      ],
      "execution_count": null,
      "outputs": [
        {
          "output_type": "display_data",
          "data": {
            "application/javascript": [
              "\n",
              "    async function download(id, filename, size) {\n",
              "      if (!google.colab.kernel.accessAllowed) {\n",
              "        return;\n",
              "      }\n",
              "      const div = document.createElement('div');\n",
              "      const label = document.createElement('label');\n",
              "      label.textContent = `Downloading \"${filename}\": `;\n",
              "      div.appendChild(label);\n",
              "      const progress = document.createElement('progress');\n",
              "      progress.max = size;\n",
              "      div.appendChild(progress);\n",
              "      document.body.appendChild(div);\n",
              "\n",
              "      const buffers = [];\n",
              "      let downloaded = 0;\n",
              "\n",
              "      const channel = await google.colab.kernel.comms.open(id);\n",
              "      // Send a message to notify the kernel that we're ready.\n",
              "      channel.send({})\n",
              "\n",
              "      for await (const message of channel.messages) {\n",
              "        // Send a message to notify the kernel that we're ready.\n",
              "        channel.send({})\n",
              "        if (message.buffers) {\n",
              "          for (const buffer of message.buffers) {\n",
              "            buffers.push(buffer);\n",
              "            downloaded += buffer.byteLength;\n",
              "            progress.value = downloaded;\n",
              "          }\n",
              "        }\n",
              "      }\n",
              "      const blob = new Blob(buffers, {type: 'application/binary'});\n",
              "      const a = document.createElement('a');\n",
              "      a.href = window.URL.createObjectURL(blob);\n",
              "      a.download = filename;\n",
              "      div.appendChild(a);\n",
              "      a.click();\n",
              "      div.remove();\n",
              "    }\n",
              "  "
            ],
            "text/plain": [
              "<IPython.core.display.Javascript object>"
            ]
          },
          "metadata": {}
        },
        {
          "output_type": "display_data",
          "data": {
            "application/javascript": [
              "download(\"download_43a4d348-a9fb-4895-9ba4-d7b6be0179ea\", \"test.png\", 87311)"
            ],
            "text/plain": [
              "<IPython.core.display.Javascript object>"
            ]
          },
          "metadata": {}
        },
        {
          "output_type": "display_data",
          "data": {
            "image/png": "[encoded data removed]",
            "text/plain": [
              "<Figure size 432x288 with 1 Axes>"
            ]
          },
          "metadata": {
            "needs_background": "light"
          }
        }
      ]
    },
    {
      "cell_type": "code",
      "metadata": {
        "colab": {
          "base_uri": "https://localhost:8080/",
          "height": 418
        },
        "id": "GODl23W_XZBj",
        "outputId": "f876f31c-1af0-49a0-d088-6d1dc82fd5ba"
      },
      "source": [
        "v_in = (np.array([1.98,1.54,1.1,0.66,0.64,1.3,1.52,1.62,1.54,1.34,0.66,0.64,1.3,1.58,1.3,0.66,0.7,1.34,1.54,1.26,0.62,0.74,1.36,1.52]))\n",
        "print(v_in)\n",
        "e_v_in = np.ones(len(v_in)) * 0.02\n",
        "f = np.array([1,5,7.5,10,15,20,22.5,25,27.5,30,35,40,45,50,55,60,65,70,75,80,85,90,95,100])\n",
        "\n",
        "v_in = np.log10(v_in)\n",
        "print(v_in)\n",
        "\n",
        "plt.errorbar(f, v_in, e_v_in, fmt='.k')\n",
        "plt.title(\"5.1 a 1, open circuit, V_in vs frequency\")\n",
        "plt.xlabel(\"Frequency, kHz\")\n",
        "plt.ylabel(\"V_in, V\")\n",
        "\n",
        "# plt.savefig('test.png', dpi = 400)\n",
        "# files.download('test.png')"
      ],
      "execution_count": null,
      "outputs": [
        {
          "output_type": "stream",
          "name": "stdout",
          "text": [
            "[1.98 1.54 1.1  0.66 0.64 1.3  1.52 1.62 1.54 1.34 0.66 0.64 1.3  1.58\n",
            " 1.3  0.66 0.7  1.34 1.54 1.26 0.62 0.74 1.36 1.52]\n",
            "[ 0.29666519  0.18752072  0.04139269 -0.18045606 -0.19382003  0.11394335\n",
            "  0.18184359  0.20951501  0.18752072  0.1271048  -0.18045606 -0.19382003\n",
            "  0.11394335  0.19865709  0.11394335 -0.18045606 -0.15490196  0.1271048\n",
            "  0.18752072  0.10037055 -0.20760831 -0.13076828  0.13353891  0.18184359]\n"
          ]
        },
        {
          "output_type": "execute_result",
          "data": {
            "text/plain": [
              "Text(0, 0.5, 'V_in, V')"
            ]
          },
          "metadata": {},
          "execution_count": 44
        },
        {
          "output_type": "display_data",
          "data": {
            "image/png": "[encoded data removed]",
            "text/plain": [
              "<Figure size 432x288 with 1 Axes>"
            ]
          },
          "metadata": {
            "needs_background": "light"
          }
        }
      ]
    },
    {
      "cell_type": "code",
      "metadata": {
        "colab": {
          "base_uri": "https://localhost:8080/",
          "height": 295
        },
        "id": "FzLZqbUHxoHn",
        "outputId": "35cce27b-48f3-4272-be93-edfdac3fbc60"
      },
      "source": [
        "# 5a zl = 0\n",
        "v_in = np.array([0.62,0.74,1.02,1.54,1.6,1.02,0.64,0.4,0.96,1.54,1.54,1,0.42,1,1.52,1.5,1,0.46,1.02,1.5,1.4,0.88,0.5])\n",
        "e_v_in = np.ones(len(v_in)) * 0.02\n",
        "f = np.array([1,2.5,5,10,15,20,22.5,25,30,35,40,45,50,55,60,65,70,75,80,85,90,95,100])\n",
        "\n",
        "plt.errorbar(f, v_in, e_v_in, fmt='.k')\n",
        "plt.title(\"5.1 a 2, short circuit, V_in vs frequency\")\n",
        "plt.xlabel(\"Frequency, kHz\")\n",
        "plt.ylabel(\"V_in, V\")\n",
        "\n",
        "plt.savefig('test.png', dpi = 400)\n",
        "files.download('test.png')"
      ],
      "execution_count": null,
      "outputs": [
        {
          "output_type": "display_data",
          "data": {
            "application/javascript": [
              "\n",
              "    async function download(id, filename, size) {\n",
              "      if (!google.colab.kernel.accessAllowed) {\n",
              "        return;\n",
              "      }\n",
              "      const div = document.createElement('div');\n",
              "      const label = document.createElement('label');\n",
              "      label.textContent = `Downloading \"${filename}\": `;\n",
              "      div.appendChild(label);\n",
              "      const progress = document.createElement('progress');\n",
              "      progress.max = size;\n",
              "      div.appendChild(progress);\n",
              "      document.body.appendChild(div);\n",
              "\n",
              "      const buffers = [];\n",
              "      let downloaded = 0;\n",
              "\n",
              "      const channel = await google.colab.kernel.comms.open(id);\n",
              "      // Send a message to notify the kernel that we're ready.\n",
              "      channel.send({})\n",
              "\n",
              "      for await (const message of channel.messages) {\n",
              "        // Send a message to notify the kernel that we're ready.\n",
              "        channel.send({})\n",
              "        if (message.buffers) {\n",
              "          for (const buffer of message.buffers) {\n",
              "            buffers.push(buffer);\n",
              "            downloaded += buffer.byteLength;\n",
              "            progress.value = downloaded;\n",
              "          }\n",
              "        }\n",
              "      }\n",
              "      const blob = new Blob(buffers, {type: 'application/binary'});\n",
              "      const a = document.createElement('a');\n",
              "      a.href = window.URL.createObjectURL(blob);\n",
              "      a.download = filename;\n",
              "      div.appendChild(a);\n",
              "      a.click();\n",
              "      div.remove();\n",
              "    }\n",
              "  "
            ],
            "text/plain": [
              "<IPython.core.display.Javascript object>"
            ]
          },
          "metadata": {}
        },
        {
          "output_type": "display_data",
          "data": {
            "application/javascript": [
              "download(\"download_6cb14793-72ff-4901-9acc-6032a8a0254d\", \"test.png\", 85593)"
            ],
            "text/plain": [
              "<IPython.core.display.Javascript object>"
            ]
          },
          "metadata": {}
        },
        {
          "output_type": "display_data",
          "data": {
            "image/png": "[encoded data removed]",
            "text/plain": [
              "<Figure size 432x288 with 1 Axes>"
            ]
          },
          "metadata": {
            "needs_background": "light"
          }
        }
      ]
    },
    {
      "cell_type": "code",
      "metadata": {
        "colab": {
          "base_uri": "https://localhost:8080/",
          "height": 295
        },
        "id": "P3nXi4Gw3CNb",
        "outputId": "50485d43-4801-4941-ad67-1ff14d782c4d"
      },
      "source": [
        "# ZL = 0.03 μF\n",
        "\n",
        "v_in = np.array([1.82,1.26,0.568,1.12,1.56,1.25,0.51,0.75,1.41,1.55,1.09,0.43,0.88,1.46,1.51,1.05,0.452,0.97,1.47,1.42,0.94,0.484])\n",
        "e_v_in = np.array([0.02,0.02,0.02,0.02,0.02,0.01,0.01,0.01,0.01,0.01,0.01,0.01,0.01,0.01,0.01,0.01,0.04,0.01,0.01,0.01,0.01,0.004])\n",
        "f = np.array([1,2.5,5,10,15,20,25,30,35,40,45,50,55,60,65,70,75,80,85,90,95,100])\n",
        "\n",
        "plt.errorbar(f, v_in, e_v_in, fmt='.k')\n",
        "plt.title(\"5.1 a 3, ZL = 0.03 μF, V_in vs frequency\")\n",
        "plt.xlabel(\"Frequency, kHz\")\n",
        "plt.ylabel(\"V_in, V\")\n",
        "\n",
        "plt.savefig('test.png', dpi = 400)\n",
        "files.download('test.png')"
      ],
      "execution_count": null,
      "outputs": [
        {
          "output_type": "display_data",
          "data": {
            "application/javascript": [
              "\n",
              "    async function download(id, filename, size) {\n",
              "      if (!google.colab.kernel.accessAllowed) {\n",
              "        return;\n",
              "      }\n",
              "      const div = document.createElement('div');\n",
              "      const label = document.createElement('label');\n",
              "      label.textContent = `Downloading \"${filename}\": `;\n",
              "      div.appendChild(label);\n",
              "      const progress = document.createElement('progress');\n",
              "      progress.max = size;\n",
              "      div.appendChild(progress);\n",
              "      document.body.appendChild(div);\n",
              "\n",
              "      const buffers = [];\n",
              "      let downloaded = 0;\n",
              "\n",
              "      const channel = await google.colab.kernel.comms.open(id);\n",
              "      // Send a message to notify the kernel that we're ready.\n",
              "      channel.send({})\n",
              "\n",
              "      for await (const message of channel.messages) {\n",
              "        // Send a message to notify the kernel that we're ready.\n",
              "        channel.send({})\n",
              "        if (message.buffers) {\n",
              "          for (const buffer of message.buffers) {\n",
              "            buffers.push(buffer);\n",
              "            downloaded += buffer.byteLength;\n",
              "            progress.value = downloaded;\n",
              "          }\n",
              "        }\n",
              "      }\n",
              "      const blob = new Blob(buffers, {type: 'application/binary'});\n",
              "      const a = document.createElement('a');\n",
              "      a.href = window.URL.createObjectURL(blob);\n",
              "      a.download = filename;\n",
              "      div.appendChild(a);\n",
              "      a.click();\n",
              "      div.remove();\n",
              "    }\n",
              "  "
            ],
            "text/plain": [
              "<IPython.core.display.Javascript object>"
            ]
          },
          "metadata": {}
        },
        {
          "output_type": "display_data",
          "data": {
            "application/javascript": [
              "download(\"download_bccf1551-0655-47ac-aec2-325f747553f3\", \"test.png\", 92681)"
            ],
            "text/plain": [
              "<IPython.core.display.Javascript object>"
            ]
          },
          "metadata": {}
        },
        {
          "output_type": "display_data",
          "data": {
            "image/png": "[encoded data removed]",
            "text/plain": [
              "<Figure size 432x288 with 1 Axes>"
            ]
          },
          "metadata": {
            "needs_background": "light"
          }
        }
      ]
    },
    {
      "cell_type": "code",
      "metadata": {
        "colab": {
          "base_uri": "https://localhost:8080/",
          "height": 295
        },
        "id": "kS3wRqcB6jni",
        "outputId": "baef0576-1865-48f0-eca1-346249039d74"
      },
      "source": [
        "# b 100 ohm\n",
        "\n",
        "v_in = np.array([0.72,1.42,0.94,0.92,1.38,0.496,1.4,0.95,0.99,1.3,0.6])\n",
        "e_v_in = np.array([0.01,0.01,0.02,0.01,0.02,0.01,0.02,0.01,0.01,0.02,0.02])\n",
        "f = np.array([1,10,20,30,40,50,60,70,80,90,100])\n",
        "\n",
        "plt.errorbar(f, v_in, e_v_in, fmt='.k')\n",
        "plt.title(\"5.1 b, ZL = 100 Ω, V_in vs frequency\")\n",
        "plt.xlabel(\"Frequency, kHz\")\n",
        "plt.ylabel(\"V_in, V\")\n",
        "\n",
        "plt.savefig('test.png', dpi = 400)\n",
        "files.download('test.png')"
      ],
      "execution_count": null,
      "outputs": [
        {
          "output_type": "display_data",
          "data": {
            "application/javascript": [
              "\n",
              "    async function download(id, filename, size) {\n",
              "      if (!google.colab.kernel.accessAllowed) {\n",
              "        return;\n",
              "      }\n",
              "      const div = document.createElement('div');\n",
              "      const label = document.createElement('label');\n",
              "      label.textContent = `Downloading \"${filename}\": `;\n",
              "      div.appendChild(label);\n",
              "      const progress = document.createElement('progress');\n",
              "      progress.max = size;\n",
              "      div.appendChild(progress);\n",
              "      document.body.appendChild(div);\n",
              "\n",
              "      const buffers = [];\n",
              "      let downloaded = 0;\n",
              "\n",
              "      const channel = await google.colab.kernel.comms.open(id);\n",
              "      // Send a message to notify the kernel that we're ready.\n",
              "      channel.send({})\n",
              "\n",
              "      for await (const message of channel.messages) {\n",
              "        // Send a message to notify the kernel that we're ready.\n",
              "        channel.send({})\n",
              "        if (message.buffers) {\n",
              "          for (const buffer of message.buffers) {\n",
              "            buffers.push(buffer);\n",
              "            downloaded += buffer.byteLength;\n",
              "            progress.value = downloaded;\n",
              "          }\n",
              "        }\n",
              "      }\n",
              "      const blob = new Blob(buffers, {type: 'application/binary'});\n",
              "      const a = document.createElement('a');\n",
              "      a.href = window.URL.createObjectURL(blob);\n",
              "      a.download = filename;\n",
              "      div.appendChild(a);\n",
              "      a.click();\n",
              "      div.remove();\n",
              "    }\n",
              "  "
            ],
            "text/plain": [
              "<IPython.core.display.Javascript object>"
            ]
          },
          "metadata": {}
        },
        {
          "output_type": "display_data",
          "data": {
            "application/javascript": [
              "download(\"download_239ff060-4b98-4e75-b915-d006e3544da7\", \"test.png\", 79168)"
            ],
            "text/plain": [
              "<IPython.core.display.Javascript object>"
            ]
          },
          "metadata": {}
        },
        {
          "output_type": "display_data",
          "data": {
            "image/png": "[encoded data removed]",
            "text/plain": [
              "<Figure size 432x288 with 1 Axes>"
            ]
          },
          "metadata": {
            "needs_background": "light"
          }
        }
      ]
    },
    {
      "cell_type": "code",
      "metadata": {
        "colab": {
          "base_uri": "https://localhost:8080/",
          "height": 295
        },
        "id": "mjY2ZJT5-3Cn",
        "outputId": "089426d4-b184-4183-c676-a28224539ca4"
      },
      "source": [
        "# b 1000 ohm\n",
        "\n",
        "v_in = np.array([1.07,1.02,0.95,0.98,0.96,0.98,0.98,1,0.98,0.98,1])\n",
        "e_v_in = np.array([0.01,0.01,0.02,0.02,0.02,0.02,0.02,0.02,0.02,0.02,0.02])\n",
        "f = np.array([1,10,20,30,40,50,60,70,80,90,100])\n",
        "\n",
        "plt.errorbar(f, v_in, e_v_in, fmt='.k')\n",
        "plt.title(\"5.1 b, ZL = 1000 Ω, V_in vs frequency\")\n",
        "plt.xlabel(\"Frequency, kHz\")\n",
        "plt.ylabel(\"V_in, V\")\n",
        "\n",
        "plt.savefig('test.png', dpi = 400)\n",
        "files.download('test.png')"
      ],
      "execution_count": null,
      "outputs": [
        {
          "output_type": "display_data",
          "data": {
            "application/javascript": [
              "\n",
              "    async function download(id, filename, size) {\n",
              "      if (!google.colab.kernel.accessAllowed) {\n",
              "        return;\n",
              "      }\n",
              "      const div = document.createElement('div');\n",
              "      const label = document.createElement('label');\n",
              "      label.textContent = `Downloading \"${filename}\": `;\n",
              "      div.appendChild(label);\n",
              "      const progress = document.createElement('progress');\n",
              "      progress.max = size;\n",
              "      div.appendChild(progress);\n",
              "      document.body.appendChild(div);\n",
              "\n",
              "      const buffers = [];\n",
              "      let downloaded = 0;\n",
              "\n",
              "      const channel = await google.colab.kernel.comms.open(id);\n",
              "      // Send a message to notify the kernel that we're ready.\n",
              "      channel.send({})\n",
              "\n",
              "      for await (const message of channel.messages) {\n",
              "        // Send a message to notify the kernel that we're ready.\n",
              "        channel.send({})\n",
              "        if (message.buffers) {\n",
              "          for (const buffer of message.buffers) {\n",
              "            buffers.push(buffer);\n",
              "            downloaded += buffer.byteLength;\n",
              "            progress.value = downloaded;\n",
              "          }\n",
              "        }\n",
              "      }\n",
              "      const blob = new Blob(buffers, {type: 'application/binary'});\n",
              "      const a = document.createElement('a');\n",
              "      a.href = window.URL.createObjectURL(blob);\n",
              "      a.download = filename;\n",
              "      div.appendChild(a);\n",
              "      a.click();\n",
              "      div.remove();\n",
              "    }\n",
              "  "
            ],
            "text/plain": [
              "<IPython.core.display.Javascript object>"
            ]
          },
          "metadata": {}
        },
        {
          "output_type": "display_data",
          "data": {
            "application/javascript": [
              "download(\"download_30bf9980-c9ba-40c0-b673-33665ef2db93\", \"test.png\", 95841)"
            ],
            "text/plain": [
              "<IPython.core.display.Javascript object>"
            ]
          },
          "metadata": {}
        },
        {
          "output_type": "display_data",
          "data": {
            "image/png": "[encoded data removed]",
            "text/plain": [
              "<Figure size 432x288 with 1 Axes>"
            ]
          },
          "metadata": {
            "needs_background": "light"
          }
        }
      ]
    },
    {
      "cell_type": "code",
      "metadata": {
        "colab": {
          "base_uri": "https://localhost:8080/",
          "height": 295
        },
        "id": "PbG7IbGzACTq",
        "outputId": "36c37786-105c-4514-fc97-714e7fb5d648"
      },
      "source": [
        "# b 2000 ohm\n",
        "\n",
        "v_in = np.array([1.4,0.86,1.02,1.06,0.81,1.15,0.83,1.8,1.02,0.89,1.15])\n",
        "e_v_in = np.array([0.01,0.01,0.02,0.01,0.01,0.02,0.01,0.01,0.01,0.01,0.01])\n",
        "f = np.array([1,10,20,30,40,50,60,70,80,90,100])\n",
        "\n",
        "plt.errorbar(f, v_in, e_v_in, fmt='.k')\n",
        "plt.title(\"5.1 b, ZL = 2000 Ω, V_in vs frequency\")\n",
        "plt.xlabel(\"Frequency, kHz\")\n",
        "plt.ylabel(\"V_in, V\")\n",
        "\n",
        "plt.savefig('test.png', dpi = 400)\n",
        "files.download('test.png')"
      ],
      "execution_count": null,
      "outputs": [
        {
          "output_type": "display_data",
          "data": {
            "application/javascript": [
              "\n",
              "    async function download(id, filename, size) {\n",
              "      if (!google.colab.kernel.accessAllowed) {\n",
              "        return;\n",
              "      }\n",
              "      const div = document.createElement('div');\n",
              "      const label = document.createElement('label');\n",
              "      label.textContent = `Downloading \"${filename}\": `;\n",
              "      div.appendChild(label);\n",
              "      const progress = document.createElement('progress');\n",
              "      progress.max = size;\n",
              "      div.appendChild(progress);\n",
              "      document.body.appendChild(div);\n",
              "\n",
              "      const buffers = [];\n",
              "      let downloaded = 0;\n",
              "\n",
              "      const channel = await google.colab.kernel.comms.open(id);\n",
              "      // Send a message to notify the kernel that we're ready.\n",
              "      channel.send({})\n",
              "\n",
              "      for await (const message of channel.messages) {\n",
              "        // Send a message to notify the kernel that we're ready.\n",
              "        channel.send({})\n",
              "        if (message.buffers) {\n",
              "          for (const buffer of message.buffers) {\n",
              "            buffers.push(buffer);\n",
              "            downloaded += buffer.byteLength;\n",
              "            progress.value = downloaded;\n",
              "          }\n",
              "        }\n",
              "      }\n",
              "      const blob = new Blob(buffers, {type: 'application/binary'});\n",
              "      const a = document.createElement('a');\n",
              "      a.href = window.URL.createObjectURL(blob);\n",
              "      a.download = filename;\n",
              "      div.appendChild(a);\n",
              "      a.click();\n",
              "      div.remove();\n",
              "    }\n",
              "  "
            ],
            "text/plain": [
              "<IPython.core.display.Javascript object>"
            ]
          },
          "metadata": {}
        },
        {
          "output_type": "display_data",
          "data": {
            "application/javascript": [
              "download(\"download_926e391f-ca9e-48b0-bd54-4df961201012\", \"test.png\", 81453)"
            ],
            "text/plain": [
              "<IPython.core.display.Javascript object>"
            ]
          },
          "metadata": {}
        },
        {
          "output_type": "display_data",
          "data": {
            "image/png": "[encoded data removed]",
            "text/plain": [
              "<Figure size 432x288 with 1 Axes>"
            ]
          },
          "metadata": {
            "needs_background": "light"
          }
        }
      ]
    },
    {
      "cell_type": "code",
      "metadata": {
        "colab": {
          "base_uri": "https://localhost:8080/",
          "height": 295
        },
        "id": "UiUDTbckA_R_",
        "outputId": "525c657f-b4f3-4a84-e05a-c7f26cec0a50"
      },
      "source": [
        "# b 3500 ohm\n",
        "\n",
        "v_in = np.array([1.56,0.78,1.1,1.12,0.73,1.29,0.74,1.16,1.08,0.85,1.27])\n",
        "e_v_in = np.array([0.01,0.02,0.01,0.01,0.01,0.01,0.02,0.01,0.02,0.02,0.01])\n",
        "f = np.array([1,10,20,30,40,50,60,70,80,90,100])\n",
        "\n",
        "plt.errorbar(f, v_in, e_v_in, fmt='.k')\n",
        "plt.title(\"5.1 b, ZL = 3500 Ω, V_in vs frequency\")\n",
        "plt.xlabel(\"Frequency, kHz\")\n",
        "plt.ylabel(\"V_in, V\")\n",
        "\n",
        "plt.savefig('test.png', dpi = 400)\n",
        "files.download('test.png')"
      ],
      "execution_count": null,
      "outputs": [
        {
          "output_type": "display_data",
          "data": {
            "application/javascript": [
              "\n",
              "    async function download(id, filename, size) {\n",
              "      if (!google.colab.kernel.accessAllowed) {\n",
              "        return;\n",
              "      }\n",
              "      const div = document.createElement('div');\n",
              "      const label = document.createElement('label');\n",
              "      label.textContent = `Downloading \"${filename}\": `;\n",
              "      div.appendChild(label);\n",
              "      const progress = document.createElement('progress');\n",
              "      progress.max = size;\n",
              "      div.appendChild(progress);\n",
              "      document.body.appendChild(div);\n",
              "\n",
              "      const buffers = [];\n",
              "      let downloaded = 0;\n",
              "\n",
              "      const channel = await google.colab.kernel.comms.open(id);\n",
              "      // Send a message to notify the kernel that we're ready.\n",
              "      channel.send({})\n",
              "\n",
              "      for await (const message of channel.messages) {\n",
              "        // Send a message to notify the kernel that we're ready.\n",
              "        channel.send({})\n",
              "        if (message.buffers) {\n",
              "          for (const buffer of message.buffers) {\n",
              "            buffers.push(buffer);\n",
              "            downloaded += buffer.byteLength;\n",
              "            progress.value = downloaded;\n",
              "          }\n",
              "        }\n",
              "      }\n",
              "      const blob = new Blob(buffers, {type: 'application/binary'});\n",
              "      const a = document.createElement('a');\n",
              "      a.href = window.URL.createObjectURL(blob);\n",
              "      a.download = filename;\n",
              "      div.appendChild(a);\n",
              "      a.click();\n",
              "      div.remove();\n",
              "    }\n",
              "  "
            ],
            "text/plain": [
              "<IPython.core.display.Javascript object>"
            ]
          },
          "metadata": {}
        },
        {
          "output_type": "display_data",
          "data": {
            "application/javascript": [
              "download(\"download_d8717445-7e53-4dd3-8d61-e2db760a770a\", \"test.png\", 79777)"
            ],
            "text/plain": [
              "<IPython.core.display.Javascript object>"
            ]
          },
          "metadata": {}
        },
        {
          "output_type": "display_data",
          "data": {
            "image/png": "[encoded data removed]",
            "text/plain": [
              "<Figure size 432x288 with 1 Axes>"
            ]
          },
          "metadata": {
            "needs_background": "light"
          }
        }
      ]
    },
    {
      "cell_type": "code",
      "metadata": {
        "colab": {
          "base_uri": "https://localhost:8080/",
          "height": 295
        },
        "id": "5O_HetB0BbCv",
        "outputId": "550b6100-b3df-4856-968a-e536da75dad5"
      },
      "source": [
        "# b 5000 ohm\n",
        "\n",
        "v_in = np.array([1.68,0.73,1.15,1.16,0.71,1.35,0.7,1.21,1.1,0.82,1.32])\n",
        "e_v_in = np.array([0.01,0.01,0.01,0.01,0.01,0.01,0.02,0.01,0.01,0.01,0.01])\n",
        "f = np.array([1,10,20,30,40,50,60,70,80,90,100])\n",
        "\n",
        "plt.errorbar(f, v_in, e_v_in, fmt='.k')\n",
        "plt.title(\"5.1 b, ZL = 5000 Ω, V_in vs frequency\")\n",
        "plt.xlabel(\"Frequency, kHz\")\n",
        "plt.ylabel(\"V_in, V\")\n",
        "\n",
        "plt.savefig('test.png', dpi = 400)\n",
        "files.download('test.png')"
      ],
      "execution_count": null,
      "outputs": [
        {
          "output_type": "display_data",
          "data": {
            "application/javascript": [
              "\n",
              "    async function download(id, filename, size) {\n",
              "      if (!google.colab.kernel.accessAllowed) {\n",
              "        return;\n",
              "      }\n",
              "      const div = document.createElement('div');\n",
              "      const label = document.createElement('label');\n",
              "      label.textContent = `Downloading \"${filename}\": `;\n",
              "      div.appendChild(label);\n",
              "      const progress = document.createElement('progress');\n",
              "      progress.max = size;\n",
              "      div.appendChild(progress);\n",
              "      document.body.appendChild(div);\n",
              "\n",
              "      const buffers = [];\n",
              "      let downloaded = 0;\n",
              "\n",
              "      const channel = await google.colab.kernel.comms.open(id);\n",
              "      // Send a message to notify the kernel that we're ready.\n",
              "      channel.send({})\n",
              "\n",
              "      for await (const message of channel.messages) {\n",
              "        // Send a message to notify the kernel that we're ready.\n",
              "        channel.send({})\n",
              "        if (message.buffers) {\n",
              "          for (const buffer of message.buffers) {\n",
              "            buffers.push(buffer);\n",
              "            downloaded += buffer.byteLength;\n",
              "            progress.value = downloaded;\n",
              "          }\n",
              "        }\n",
              "      }\n",
              "      const blob = new Blob(buffers, {type: 'application/binary'});\n",
              "      const a = document.createElement('a');\n",
              "      a.href = window.URL.createObjectURL(blob);\n",
              "      a.download = filename;\n",
              "      div.appendChild(a);\n",
              "      a.click();\n",
              "      div.remove();\n",
              "    }\n",
              "  "
            ],
            "text/plain": [
              "<IPython.core.display.Javascript object>"
            ]
          },
          "metadata": {}
        },
        {
          "output_type": "display_data",
          "data": {
            "application/javascript": [
              "download(\"download_3c1f4ec0-09f6-4f57-bbd7-07b308ddc925\", \"test.png\", 79820)"
            ],
            "text/plain": [
              "<IPython.core.display.Javascript object>"
            ]
          },
          "metadata": {}
        },
        {
          "output_type": "display_data",
          "data": {
            "image/png": "[encoded data removed]",
            "text/plain": [
              "<Figure size 432x288 with 1 Axes>"
            ]
          },
          "metadata": {
            "needs_background": "light"
          }
        }
      ]
    },
    {
      "cell_type": "code",
      "metadata": {
        "colab": {
          "base_uri": "https://localhost:8080/",
          "height": 295
        },
        "id": "lBl4EfWKCLv3",
        "outputId": "311b7c74-2f9d-4db1-debe-e81d6278fab7"
      },
      "source": [
        "# c\n",
        "\n",
        "log = np.array([-0.1653673937,-0.1023729087,-0.099131473,-0.1249387366,-0.1366771399,-0.1512676753,-0.1479226435,-0.1742664896,-0.2358594641,-0.1581796697,-0.3904519873,-0.4691655963\n",
        ",-0.6152530045,-0.997035521,-2.073980052,-2.447158031,-2.491361694,-2.585792379,-2.485807434,-2.427716399,-2.332744409,-2.293968141,-2.235212711,-2.158717163])\n",
        "e_log = np.array([0.01414213562,0.01414213562,0.01414213562,0.01414213562,0.01414213562,0.01414213562,0.01414213562,0.01077032961,0.01414213562,0.01004987562,0.01077032961\n",
        ",0.01077032961,0.01077032961,0.01004987562,0.01004987562,0.01004987562,0.0100124922,0.0100124922,0.0100124922,0.01003194896,0.0100124922,0.0100124922,0.01000449899,0.01000049999])\n",
        "f = np.array([1,10,25,50,75,100,125,150,175,200,225,250,275,300,320,330,350,400,500,600,700,800,900,1000])\n",
        "\n",
        "plt.errorbar(f, log, e_log, fmt='.k')\n",
        "plt.title(\"5.1 c, ZL = 1000 Ω, 10LOG(V_out / V_in) vs frequency\")\n",
        "plt.xlabel(\"Frequency, kHz\")\n",
        "plt.ylabel(\"10LOG(V_out / V_in), arbitrary\")\n",
        "\n",
        "plt.savefig('test.png', dpi = 400)\n",
        "files.download('test.png')"
      ],
      "execution_count": null,
      "outputs": [
        {
          "output_type": "display_data",
          "data": {
            "application/javascript": [
              "\n",
              "    async function download(id, filename, size) {\n",
              "      if (!google.colab.kernel.accessAllowed) {\n",
              "        return;\n",
              "      }\n",
              "      const div = document.createElement('div');\n",
              "      const label = document.createElement('label');\n",
              "      label.textContent = `Downloading \"${filename}\": `;\n",
              "      div.appendChild(label);\n",
              "      const progress = document.createElement('progress');\n",
              "      progress.max = size;\n",
              "      div.appendChild(progress);\n",
              "      document.body.appendChild(div);\n",
              "\n",
              "      const buffers = [];\n",
              "      let downloaded = 0;\n",
              "\n",
              "      const channel = await google.colab.kernel.comms.open(id);\n",
              "      // Send a message to notify the kernel that we're ready.\n",
              "      channel.send({})\n",
              "\n",
              "      for await (const message of channel.messages) {\n",
              "        // Send a message to notify the kernel that we're ready.\n",
              "        channel.send({})\n",
              "        if (message.buffers) {\n",
              "          for (const buffer of message.buffers) {\n",
              "            buffers.push(buffer);\n",
              "            downloaded += buffer.byteLength;\n",
              "            progress.value = downloaded;\n",
              "          }\n",
              "        }\n",
              "      }\n",
              "      const blob = new Blob(buffers, {type: 'application/binary'});\n",
              "      const a = document.createElement('a');\n",
              "      a.href = window.URL.createObjectURL(blob);\n",
              "      a.download = filename;\n",
              "      div.appendChild(a);\n",
              "      a.click();\n",
              "      div.remove();\n",
              "    }\n",
              "  "
            ],
            "text/plain": [
              "<IPython.core.display.Javascript object>"
            ]
          },
          "metadata": {}
        },
        {
          "output_type": "display_data",
          "data": {
            "application/javascript": [
              "download(\"download_5072931d-f173-4a89-b410-27ae243e2a5f\", \"test.png\", 116099)"
            ],
            "text/plain": [
              "<IPython.core.display.Javascript object>"
            ]
          },
          "metadata": {}
        },
        {
          "output_type": "display_data",
          "data": {
            "image/png": "[encoded data removed]",
            "text/plain": [
              "<Figure size 432x288 with 1 Axes>"
            ]
          },
          "metadata": {
            "needs_background": "light"
          }
        }
      ]
    },
    {
      "cell_type": "code",
      "metadata": {
        "colab": {
          "base_uri": "https://localhost:8080/",
          "height": 295
        },
        "id": "H8gW9lw8Eshh",
        "outputId": "f22d22d0-8acd-4d95-ff04-2fcfa858c7a8"
      },
      "source": [
        "# d\n",
        "\n",
        "v_out = np.array([2.0,2.08,2.38,5.16,4.52,2.2,1.92,2.3,5.08,4.12,2.18,1.92,2.42,5.08,3.58,2.08,1.86,2.54,4.96,3.12,2,1.96])\n",
        "e_v_out = np.array([0.02,0.02,0.02,0.04,0.04,0.0,0.01,0.02,0.04,0.04,0.02,0.01,0.02,0.01,0.02,0.01,0.02,0.02,0.01,0.01,0.01,0.01])\n",
        "f = np.array([1,2.5,5,10,15,20,25,30,35,40,45,50,55,60,65,70,75,80,85,90,95,100])\n",
        "\n",
        "\n",
        "plt.errorbar(f, v_out, e_v_out, fmt='.k')\n",
        "plt.title(\"5.1 d, ZL = ∞, no input R, V_out vs frequency\")\n",
        "plt.xlabel(\"Frequency, kHz\")\n",
        "plt.ylabel(\"V_in, V\")\n",
        "\n",
        "plt.savefig('test.png', dpi = 400)\n",
        "files.download('test.png')"
      ],
      "execution_count": null,
      "outputs": [
        {
          "output_type": "display_data",
          "data": {
            "application/javascript": [
              "\n",
              "    async function download(id, filename, size) {\n",
              "      if (!google.colab.kernel.accessAllowed) {\n",
              "        return;\n",
              "      }\n",
              "      const div = document.createElement('div');\n",
              "      const label = document.createElement('label');\n",
              "      label.textContent = `Downloading \"${filename}\": `;\n",
              "      div.appendChild(label);\n",
              "      const progress = document.createElement('progress');\n",
              "      progress.max = size;\n",
              "      div.appendChild(progress);\n",
              "      document.body.appendChild(div);\n",
              "\n",
              "      const buffers = [];\n",
              "      let downloaded = 0;\n",
              "\n",
              "      const channel = await google.colab.kernel.comms.open(id);\n",
              "      // Send a message to notify the kernel that we're ready.\n",
              "      channel.send({})\n",
              "\n",
              "      for await (const message of channel.messages) {\n",
              "        // Send a message to notify the kernel that we're ready.\n",
              "        channel.send({})\n",
              "        if (message.buffers) {\n",
              "          for (const buffer of message.buffers) {\n",
              "            buffers.push(buffer);\n",
              "            downloaded += buffer.byteLength;\n",
              "            progress.value = downloaded;\n",
              "          }\n",
              "        }\n",
              "      }\n",
              "      const blob = new Blob(buffers, {type: 'application/binary'});\n",
              "      const a = document.createElement('a');\n",
              "      a.href = window.URL.createObjectURL(blob);\n",
              "      a.download = filename;\n",
              "      div.appendChild(a);\n",
              "      a.click();\n",
              "      div.remove();\n",
              "    }\n",
              "  "
            ],
            "text/plain": [
              "<IPython.core.display.Javascript object>"
            ]
          },
          "metadata": {}
        },
        {
          "output_type": "display_data",
          "data": {
            "application/javascript": [
              "download(\"download_de914040-33c8-438c-831a-f90ee468f61b\", \"test.png\", 92148)"
            ],
            "text/plain": [
              "<IPython.core.display.Javascript object>"
            ]
          },
          "metadata": {}
        },
        {
          "output_type": "display_data",
          "data": {
            "image/png": "[encoded data removed]",
            "text/plain": [
              "<Figure size 432x288 with 1 Axes>"
            ]
          },
          "metadata": {
            "needs_background": "light"
          }
        }
      ]
    },
    {
      "cell_type": "code",
      "metadata": {
        "id": "BPgDjvYsokpY"
      },
      "source": [],
      "execution_count": null,
      "outputs": []
    }
  ]
}