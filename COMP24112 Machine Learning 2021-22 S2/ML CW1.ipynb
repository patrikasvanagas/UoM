{
 "cells": [
  {
   "cell_type": "markdown",
   "metadata": {},
   "source": [
    "## Lab 1: Python Exercises for COMP24112\n",
    "\n",
    "# 1. Instruction\n",
    "\n",
    "There are a total of 12 exercises. You are asked to complete all of them. Print out the final results, and comment if needed. Make sure your results can be reproduced by your TA using Restart & Run All.\n",
    "You are **only** allowed to use libraries in the provided file “Instruction on Mathematical Programming in Python for COMP24112”. Additionally, everything asked to add to a report should be included in one single .pdf file (Arial font 11 or equivalent, maximum two pages, and best to fit within one page)."
   ]
  },
  {
   "cell_type": "markdown",
   "metadata": {},
   "source": [
    "## 2. Exercises\n",
    "\n",
    "Start with the provided supporting tutorial \"Instruction on Mathematical Programming in Python\" and \"Maths Knowledge Overview\". After you are familiar with the basics, you can proceed to the exercises.\n"
   ]
  },
  {
   "cell_type": "markdown",
   "metadata": {},
   "source": [
    "### Exercise 1 (1 mark - easy)\n",
    "\n",
    "Input a 4 by 4 magic square matrix \n",
    "$$\\textbf{A}=\n",
    "\\left[\n",
    "\\begin{array}{cccc}\n",
    "        16   &   3 &  2 & 13 \\\\\n",
    "        5    &  10 & 11 &  8 \\\\\n",
    "        9    &   6 &  7 & 12 \\\\\n",
    "        4    &  15 & 14 &  1 \\\\\n",
    "\\end{array}\n",
    "\\right]. \n",
    "$$  \n",
    "\n",
    "Generate a 4 by 4 matrix $\\textbf{B}$ with random integer entries. Set $\\textbf{C}$ to be a 4 by 4 matrix with 1's on the diagonal and 0's elsewhere. Check to see that, $\\textbf{A}$, $\\textbf{B}$ and $\\textbf{C}$ are all present. Compute the sum of the third column of $\\textbf{A}$."
   ]
  },
  {
   "cell_type": "code",
   "execution_count": 1,
   "metadata": {},
   "outputs": [
    {
     "name": "stdout",
     "output_type": "stream",
     "text": [
      "A, B and C are all present\n",
      "\n",
      "The sum of the third column of A is 34\n"
     ]
    }
   ],
   "source": [
    "import math\n",
    "import numpy as np\n",
    "import matplotlib.pyplot as plt\n",
    "import random\n",
    "\n",
    "A = np.array([[16, 3, 2, 13], [5, 10, 11, 8], [9, 6, 7, 12], [4, 15, 14, 1]])\n",
    "\n",
    "B = np.random.randint(17, size=(4, 4))\n",
    "\n",
    "C = np.eye(4, dtype=int)\n",
    "\n",
    "# print(str(A)  + '\\n')\n",
    "# print(str(B)  + '\\n')\n",
    "# print(str(C)  + '\\n')\n",
    "\n",
    "if \"A\" in globals() and \"B\" in globals() and \"B\" in globals():\n",
    "    print(\"A, B and C are all present\\n\")\n",
    "print(\"The sum of the third column of A is \" + str(np.sum(A[:, 2])))\n"
   ]
  },
  {
   "cell_type": "code",
   "execution_count": 2,
   "metadata": {},
   "outputs": [
    {
     "name": "stdout",
     "output_type": "stream",
     "text": [
      "For inspection, matrix B:\n",
      "[[13  9 13  0]\n",
      " [13  5 13  9]\n",
      " [ 7 13  8 11]\n",
      " [10 11 11  7]]\n"
     ]
    }
   ],
   "source": [
    "print(\"For inspection, matrix B:\\n\" + str(B))\n"
   ]
  },
  {
   "cell_type": "markdown",
   "metadata": {},
   "source": [
    "### Exercise 2 (1 mark - easy)\n",
    "\n",
    "Generate a 4 by 2 matrix consisting of the 1st and 3rd columns of $\\textbf{B}$ using the colon operator."
   ]
  },
  {
   "cell_type": "code",
   "execution_count": 3,
   "metadata": {},
   "outputs": [
    {
     "name": "stdout",
     "output_type": "stream",
     "text": [
      "[[13 13  7 10]\n",
      " [13 13  8 11]]\n"
     ]
    }
   ],
   "source": [
    "print(np.stack((B[:, 0], B[:, 2])))\n"
   ]
  },
  {
   "cell_type": "markdown",
   "metadata": {},
   "source": [
    "### Exercise 3 (1 mark - easy)\n",
    "\n",
    "Generate a 4 by 2 matrix containing two different columns that are randomly selected from the columns of $\\textbf{B}$. Generate a 3 by 4 matrix containing three different rows that are randomly selected from the rows of $\\textbf{B}$. "
   ]
  },
  {
   "cell_type": "code",
   "execution_count": 4,
   "metadata": {},
   "outputs": [
    {
     "name": "stdout",
     "output_type": "stream",
     "text": [
      "[[ 9  5 13 11]\n",
      " [13 13  8 11]]\n",
      "\n",
      "[[10 11 11  7]\n",
      " [13  5 13  9]\n",
      " [ 7 13  8 11]]\n"
     ]
    }
   ],
   "source": [
    "column_indices = random.sample(range(0, len(B[0])), 2)\n",
    "print(\n",
    "    str(np.stack((B[:, column_indices[0]], B[:, column_indices[1]])))\n",
    "    + \"\\n\"\n",
    ")\n",
    "\n",
    "row_indices = random.sample(range(0, len(B)), 3)\n",
    "print(\n",
    "    (\n",
    "        np.stack(\n",
    "            (\n",
    "                B[row_indices[0], :],\n",
    "                B[row_indices[1], :],\n",
    "                B[row_indices[2], :],\n",
    "            )\n",
    "        )\n",
    "    )\n",
    ")\n"
   ]
  },
  {
   "cell_type": "markdown",
   "metadata": {},
   "source": [
    "### Exercise 4 (1 mark - easy)\n",
    "\n",
    "The matrix $\\textbf{A}$ is a magic square, in which the sum of each row, each column, and each diagonal is the same. First check whether $\\textbf{A}$ satisfies this  magic square condition. Then sort the 2nd row of $\\textbf{A}$ and print this sorted row using appropriate commands."
   ]
  },
  {
   "cell_type": "code",
   "execution_count": 5,
   "metadata": {},
   "outputs": [
    {
     "name": "stdout",
     "output_type": "stream",
     "text": [
      "True, A is a magic square.\n",
      "\n",
      "Sorted 2nd row of A: [ 5  8 10 11]\n"
     ]
    }
   ],
   "source": [
    "column_sums = np.sum(A, axis=0)\n",
    "row_sums = np.sum(A, axis=1)\n",
    "l_r_trace = np.trace(A)\n",
    "r_l_trace = np.trace(np.fliplr(A))\n",
    "\n",
    "if (\n",
    "    np.all(column_sums == l_r_trace)\n",
    "    and np.all(row_sums == r_l_trace)\n",
    "    and l_r_trace == r_l_trace\n",
    "):\n",
    "    print(\"True, A is a magic square.\\n\")\n",
    "else:\n",
    "    print(\"False, A is not a magic square.\\n\")\n",
    "print(\"Sorted 2nd row of A: \" + str(np.sort(A[1, :])))\n"
   ]
  },
  {
   "cell_type": "markdown",
   "metadata": {},
   "source": [
    "### Exercise 5 (1 mark - easy)\n",
    "\n",
    "Set $\\textbf{B}$ as an identity matrix, multiplication of $\\textbf{A}$ by $\\textbf{B}$ should yield $\\textbf{A}$. Check this. What does component by component multipilication give? Check this. "
   ]
  },
  {
   "cell_type": "code",
   "execution_count": 6,
   "metadata": {},
   "outputs": [
    {
     "name": "stdout",
     "output_type": "stream",
     "text": [
      "True, multiplying a matrix by an identity matrix returns the original matrix.\n",
      "\n",
      "As expected, component-wise multiplication sets all but diagonal elements to zero:\n",
      "[[16  0  0  0]\n",
      " [ 0 10  0  0]\n",
      " [ 0  0  7  0]\n",
      " [ 0  0  0  1]]\n"
     ]
    }
   ],
   "source": [
    "B = np.eye(4, dtype=int)\n",
    "\n",
    "if np.array_equal(A, np.matmul(A, B)):\n",
    "    print(\n",
    "        \"True, multiplying a matrix by an identity matrix returns the original matrix.\\n\"\n",
    "    )\n",
    "else:\n",
    "    print(\n",
    "        \"False, multiplying a matrix by an identity matrix returns does not return the original matrix.\\n\"\n",
    "    )\n",
    "print(\n",
    "    \"As expected, component-wise multiplication sets all but diagonal elements to zero:\\n\"\n",
    "    + str(np.multiply(A, B))\n",
    ")\n"
   ]
  },
  {
   "cell_type": "markdown",
   "metadata": {},
   "source": [
    "### Exercise 6 (1 mark - easy)\n",
    "\n",
    "Count the number of values of $\\textbf{A}$ which are greater than 10 using logical operators."
   ]
  },
  {
   "cell_type": "code",
   "execution_count": 7,
   "metadata": {},
   "outputs": [
    {
     "name": "stdout",
     "output_type": "stream",
     "text": [
      "6 elements are greater than 10.\n"
     ]
    }
   ],
   "source": [
    "# counter = 0\n",
    "# for i in range(len(A)):\n",
    "#     for j in range(len(A[0])):\n",
    "#         if A[i, j] > 10:\n",
    "#             counter += 1\n",
    "# print(str(counter) + \" elements are greater than 10.\")\n",
    "\n",
    "print(str(np.count_nonzero(A > 10)) + \" elements are greater than 10.\")"
   ]
  },
  {
   "cell_type": "markdown",
   "metadata": {},
   "source": [
    "### Exercise 7 (1 mark - easy)\n",
    "\n",
    "The reciprocal of a number $x$ is  $1/x$. Use `for` loops to  create  a new matrix $\\textbf{B}$, where each element in $\\textbf{B}$ is the reciprocal of the corresponding element in $\\textbf{A}$, and sum the columns of $\\textbf{B}$. Now create the same matrix $\\textbf{B}$ and calculate its column sums in a single operation, using matrix commands, without a `for` loop."
   ]
  },
  {
   "cell_type": "code",
   "execution_count": 8,
   "metadata": {},
   "outputs": [
    {
     "name": "stdout",
     "output_type": "stream",
     "text": [
      "B, for loops:\n",
      "[[0.0625     0.33333333 0.5        0.07692308]\n",
      " [0.2        0.1        0.09090909 0.125     ]\n",
      " [0.11111111 0.16666667 0.14285714 0.08333333]\n",
      " [0.25       0.06666667 0.07142857 1.        ]]\n",
      "\n",
      "Column sums, for loops:\n",
      "[0.6236111111111111, 0.6666666666666666, 0.8051948051948052, 1.2852564102564101]\n",
      "\n",
      "B, numpy:\n",
      "[[0.0625     0.33333333 0.5        0.07692308]\n",
      " [0.2        0.1        0.09090909 0.125     ]\n",
      " [0.11111111 0.16666667 0.14285714 0.08333333]\n",
      " [0.25       0.06666667 0.07142857 1.        ]]\n",
      "\n",
      "Column sums, numpy:\n",
      "[0.62361111 0.66666667 0.80519481 1.28525641]\n",
      "\n",
      "Both methods produce the same B matrix.\n",
      "Both methods find the same column sums.\n"
     ]
    }
   ],
   "source": [
    "B_1 = np.empty([len(A), len(A[0])])\n",
    "column_sums_1 = np.array([])\n",
    "for i in range(len(A)):\n",
    "    for j in range(len(A[0])):\n",
    "        B_1[i, j] = 1 / A[i, j]\n",
    "print(\"B, for loops:\\n\" + str(B_1) + \"\\n\")\n",
    "\n",
    "column_sums_1 = [np.sum(B_1[:, i]) for i in range(len(B[0]))]\n",
    "\n",
    "print(\"Column sums, for loops:\\n\" + str(column_sums_1) + \"\\n\")\n",
    "\n",
    "B_2 = np.reciprocal(A.astype(float))\n",
    "\n",
    "print(\"B, numpy:\\n\" + str(B_2) + \"\\n\")\n",
    "\n",
    "column_sums_2 = np.sum(B_2, axis=0)\n",
    "\n",
    "print(\"Column sums, numpy:\\n\" + str(column_sums_2) + \"\\n\")\n",
    "\n",
    "if np.array_equal(B_1, B_2):\n",
    "    print(\"Both methods produce the same B matrix.\")\n",
    "else:\n",
    "    print(\"Methods do not produce the same B matrix.\")\n",
    "if np.array_equal(column_sums_1, column_sums_2):\n",
    "    print(\"Both methods find the same column sums.\")\n",
    "else:\n",
    "    print(\"Both methods do not find the same column sums.\")\n"
   ]
  },
  {
   "cell_type": "markdown",
   "metadata": {},
   "source": [
    "### Exercise 8 (1 mark - easy)\n",
    "\n",
    "Plot the log and square root of the integers from $1$ to $100$ in one single figure. Provide axis names, legend and title for the figure."
   ]
  },
  {
   "cell_type": "code",
   "execution_count": 9,
   "metadata": {},
   "outputs": [
    {
     "data": {
      "text/plain": [
       "<matplotlib.legend.Legend at 0x22d05a449d0>"
      ]
     },
     "execution_count": 9,
     "metadata": {},
     "output_type": "execute_result"
    },
    {
     "data": {
      "image/png": "[encoded data removed]",
      "text/plain": [
       "<Figure size 432x288 with 1 Axes>"
      ]
     },
     "metadata": {
      "needs_background": "light"
     },
     "output_type": "display_data"
    }
   ],
   "source": [
    "x = np.arange(1, 100, 1)\n",
    "y_1 = np.log(x)\n",
    "y_2 = np.sqrt(x)\n",
    "\n",
    "fig = plt.figure()\n",
    "ax = fig.add_subplot(111)\n",
    "\n",
    "ax.plot(x, y_1, label=r\"$\\log{x}$\")\n",
    "ax.plot(x, y_2, label=r\"$\\sqrt{x}$\")\n",
    "\n",
    "ax.set_title(\"$\\log{x}$ vs $\\sqrt{x}$\", fontsize=16, fontname=\"Arial\")\n",
    "ax.set_xlabel(\"$x$\", fontsize=14, fontname=\"Arial\")\n",
    "ax.set_ylabel(r\"$y$\", fontsize=14, fontname=\"Arial\")\n",
    "ax.legend(loc=\"upper left\", fontsize=12)\n"
   ]
  },
  {
   "cell_type": "markdown",
   "metadata": {},
   "source": [
    "### Exercise 9 (2 marks - normal)\n",
    "\n",
    "Let $\\boldsymbol{y} $ be an $N$-dimensional column vector with $y_i$ denoting its $i$-th element. \n",
    "Let $\\textbf{X}$ be an $N$ by $D$ matrix and $\\boldsymbol{x}_{i}$ be a column vector which is the transpose of the $i$-th row of $\\textbf{X}$.\n",
    "Let $\\boldsymbol{w}$ be a $D$-dimensional column vector. \n",
    "Choose a value for $N$ and a value for $D$ as you like, generate $\\boldsymbol{y}$, $\\textbf{X}$ and $\\boldsymbol{w}$ containing random elements.\n",
    "Use matrix operations and `for` loops to verify the following two quantities are equal. \n",
    "$$ \\boldsymbol{g}_1 = \\textbf{X}^T\\textbf{X} \\boldsymbol{w}-\\textbf{X}^T \\boldsymbol{y}$$\n",
    "$$ \\boldsymbol{g}_2 = \\sum_{i=1}^N \\left(\\boldsymbol{x}_{i}^T \\boldsymbol{w}- y_i\\right) \\boldsymbol{x}_{i}$$\n",
    "\n",
    "Define an example case for your convenience with $N=2$ and $D=3$, calculate $ \\boldsymbol{g}_1$ and $\\boldsymbol{g}_2$ by hand and write down the calcualtion step by step in the report."
   ]
  },
  {
   "cell_type": "code",
   "execution_count": 10,
   "metadata": {},
   "outputs": [
    {
     "name": "stdout",
     "output_type": "stream",
     "text": [
      "Both methods return the same column vector within a negligeable element-wise error.\n"
     ]
    }
   ],
   "source": [
    "N = 2022\n",
    "D = 2502\n",
    "\n",
    "y = np.random.rand(N, 1)\n",
    "X = np.random.rand(N, D)\n",
    "w = np.random.rand(D, 1)\n",
    "\n",
    "g_1 = np.matmul(np.matmul(X.T, X), w) - np.matmul(X.T, y)\n",
    "\n",
    "g_2 = np.zeros(g_1.shape)\n",
    "\n",
    "for i in range(N):\n",
    "    x_i = X[i][:, np.newaxis]\n",
    "    y_i = y[i]\n",
    "    g_2 += (np.matmul(x_i.T, w) - y_i) * x_i\n",
    "if np.allclose(g_1, g_2):\n",
    "    print(\n",
    "        \"Both methods return the same column vector within a negligeable element-wise error.\"\n",
    "    )\n",
    "else:\n",
    "    print(\"Both methods do not return the same column vector.\")\n"
   ]
  },
  {
   "cell_type": "markdown",
   "metadata": {},
   "source": [
    "### Exercise 10 (2 marks - normal)\n",
    "\n",
    "Calculate the derivative of function $f(x) = x^2+3x+1$ at 10 randomly chosen values of $x$. Write a user-defined function for calculating an approximated derivative of an input function based on \n",
    "\n",
    "$$\\frac{d f(x)}{d x}=\\frac{f(x+\\Delta x)-f(x)}{\\Delta x} ~ .$$\n",
    "\n",
    "Use this function to calculate the approximated derivative for $f(x) = x^2+3x+1$ at the same 10 chosen values of $x$ for $\\Delta x = 1$, $\\Delta x = 0.1$ and $\\Delta x = 0.001$. Plot your derivatives and the approximated derivatives in the same figure. Provide axis names, legend and title for the figure. Explain which $\\Delta x$ gives you a better approximation and analyse how the choice of $\\Delta x$ affects the approximation in the report."
   ]
  },
  {
   "cell_type": "code",
   "execution_count": 16,
   "metadata": {},
   "outputs": [
    {
     "data": {
      "image/png": "[encoded data removed]",
      "text/plain": [
       "<Figure size 432x288 with 1 Axes>"
      ]
     },
     "metadata": {
      "needs_background": "light"
     },
     "output_type": "display_data"
    }
   ],
   "source": [
    "sample_center = -1.5\n",
    "\n",
    "interval_length = 4\n",
    "\n",
    "n_datapoints = 1000\n",
    "\n",
    "interval = np.linspace(\n",
    "    sample_center - interval_length / 2,\n",
    "    sample_center + interval_length / 2,\n",
    "    n_datapoints,\n",
    ")\n",
    "\n",
    "\n",
    "def function(x):\n",
    "    return x**2 + 3 * x + 1\n",
    "\n",
    "\n",
    "def function_derivative(x):\n",
    "    return 2 * x + 3\n",
    "\n",
    "\n",
    "def derivative_approximation(x, delta_x):\n",
    "    return (function(x + delta_x) - function(x)) / delta_x\n",
    "\n",
    "\n",
    "sample_x = np.array(random.sample(list(interval), 10))\n",
    "\n",
    "exact_derivatives = function_derivative(sample_x)\n",
    "\n",
    "approximate_derivatives_1 = derivative_approximation(sample_x, delta_x=1)\n",
    "\n",
    "approximate_derivatives_2 = derivative_approximation(sample_x, delta_x=0.1)\n",
    "\n",
    "approximate_derivatives_3 = derivative_approximation(sample_x, delta_x=0.001)\n",
    "\n",
    "\n",
    "fig = plt.figure()\n",
    "ax = fig.add_subplot(111)\n",
    "\n",
    "ax.plot(sample_x, exact_derivatives, label=r\"$\\lim_{\\Delta {x} \\to 0}$\", c = 'r')\n",
    "ax.scatter(sample_x, approximate_derivatives_1, label=r\"$\\Delta{x}=1$\")\n",
    "ax.scatter(sample_x, approximate_derivatives_2, label=r\"$\\Delta{x}=0.1$\")\n",
    "ax.scatter(sample_x, approximate_derivatives_3, label=r\"$\\Delta{x}=0.001$\")\n",
    "\n",
    "ax.set_title(\n",
    "    r\"$\\left. \\frac{d}{dx}(x^2+3x+1)\\right|_{x} $ with different $\\Delta {x}$\",\n",
    "    fontsize=15,\n",
    "    fontname=\"Arial\",\n",
    ")\n",
    "ax.set_xlabel(\"$x$\", fontsize=14, fontname=\"Arial\")\n",
    "ax.set_ylabel(r\"$y$\", fontsize=14, fontname=\"Arial\")\n",
    "ax.legend(loc=\"upper left\", fontsize=12.5)\n",
    "\n",
    "plt.tight_layout()\n"
   ]
  },
  {
   "cell_type": "markdown",
   "metadata": {},
   "source": [
    "### Exercise 11 (3 marks - normal)\n",
    "\n",
    "Given two $d$-dimensional data points $\\boldsymbol{x} = [x_1,x_2,\\dots,x_d]$ and $\\boldsymbol{y}=[y_1,y_2,\\dots,y_d]$. The Euclidean distance between these two points is computed as \n",
    "\n",
    "$$\n",
    "d(\\boldsymbol{x},\\boldsymbol{y}) = \\sqrt{\\sum_{i=1}^d (x_i-y_i)^2} = \\sqrt{\\boldsymbol{x}\\boldsymbol{x}^T - 2\\boldsymbol{x}\\boldsymbol{y}^T+\\boldsymbol{y}\\boldsymbol{y}^T}.\n",
    "$$\n",
    "\n",
    "Generate $5$ random $3$-dimensional points and store them in a $5\\times 3$ matrix called $\\textbf{A}$ ($5$ rows and $3$ columns). Generate another $8$ random $3$-dimensional points and store them in a $8\\times 3$ matrix called $\\textbf{B}$ ($8$ rows and $3$ columns). Calculate the Euclidean distance between the $5$ and $8$ points, and store these distances in a $5\\times 8$ matrix called $\\textbf{D}$ using `for` loops ($5$ rows and $8$ colums).\n",
    "\n",
    "* Calculate the Euclidean distances between the 5 and 8 points, and store these distances in a $5\\times 8$ matrix called $\\boldsymbol{D}$ using `for` loops (5 rows and 8 columns). \n",
    "* Calculate  $\\boldsymbol{D}$ using algebraic matrix operations without using any loop.  Explain how you derive the solution in the report. \n"
   ]
  },
  {
   "cell_type": "code",
   "execution_count": 12,
   "metadata": {},
   "outputs": [
    {
     "name": "stdout",
     "output_type": "stream",
     "text": [
      "Both methods return the same Euclidean distance matrix within a negligeable element-wise error.\n"
     ]
    }
   ],
   "source": [
    "A = np.random.rand(5, 3)\n",
    "B = np.random.rand(8, 3)\n",
    "\n",
    "D_1 = np.empty([5, 8])\n",
    "\n",
    "for i in range(len(A)):\n",
    "    for j in range(len(B)):\n",
    "        distance_squared = 0\n",
    "        for k in range(len(A[i])):\n",
    "            distance_squared += (A[i, k] - B[j, k]) ** 2\n",
    "        D_1[i, j] = np.sqrt(distance_squared)\n",
    "\n",
    "D_2 = np.sqrt(\n",
    "    np.sum(A**2, axis=1)[:, np.newaxis] + np.sum(B**2, axis=1) - 2 * np.dot(A, B.T)\n",
    ")\n",
    "\n",
    "if np.allclose(D_1, D_2):\n",
    "    print(\n",
    "        \"Both methods return the same Euclidean distance matrix within a negligeable element-wise error.\"\n",
    "    )\n",
    "else:\n",
    "    print(\"Both methods do not return the same Euclidean distance matrix.\")\n"
   ]
  },
  {
   "cell_type": "markdown",
   "metadata": {},
   "source": [
    "### Exercise 12 (5 marks - hard)\n",
    "\n",
    "This is a challenging exercise that requires some significant effort and time. Implement from scratch a piece of Python code that can be used to solve the following optimisation problem:\n",
    "$$\\min_{-4 \\leq x \\leq 6} x^4 -4x^3 +60\\sin(x) +50\\cos(x).$$\n",
    "  Explain your solution and discuss its advantage and limitation in the report.  You are encouraged to design the solution from scratch based on what you  have known. But you are allowed to seek support from existing literature and solve the problem using new self-learned knowledge, and in this case you need to provide references to the used knowledge resources that help you come up with a solution. What is not allowed is to use any optimisation library and any readily provided implementation (even with minor modifications). The solution should be implemented from scratch by yourself. "
   ]
  },
  {
   "cell_type": "code",
   "execution_count": 13,
   "metadata": {},
   "outputs": [
    {
     "data": {
      "image/png": "[encoded data removed]",
      "text/plain": [
       "<Figure size 432x288 with 1 Axes>"
      ]
     },
     "metadata": {
      "needs_background": "light"
     },
     "output_type": "display_data"
    }
   ],
   "source": [
    "# You can observe the plot of the function by running this cell\n",
    "\n",
    "import numpy as np\n",
    "import matplotlib.pyplot as plt\n",
    "\n",
    "def f(x):\n",
    "    return x**4 - 4 * x**3 + 60 * np.sin(x) + 50 * np.cos(x)\n",
    "\n",
    "lb = -4.\n",
    "ub = 6.\n",
    "x = np.arange(lb,ub,0.1)\n",
    "fx = f(x)\n",
    "\n",
    "plt.plot(x,fx)\n",
    "plt.xlabel(\"$x$\")\n",
    "plt.ylabel(\"$x^4 - 4x^3 + 60\\sin(x) +50\\cos(x)$\")\n",
    "plt.show()"
   ]
  },
  {
   "cell_type": "code",
   "execution_count": 15,
   "metadata": {},
   "outputs": [
    {
     "data": {
      "image/png": "[encoded data removed]",
      "text/plain": [
       "<Figure size 432x288 with 1 Axes>"
      ]
     },
     "metadata": {
      "needs_background": "light"
     },
     "output_type": "display_data"
    },
    {
     "data": {
      "image/png": "[encoded data removed]",
      "text/plain": [
       "<Figure size 432x288 with 1 Axes>"
      ]
     },
     "metadata": {
      "needs_background": "light"
     },
     "output_type": "display_data"
    },
    {
     "name": "stdout",
     "output_type": "stream",
     "text": [
      "f(3.6041) = -90.0527 was found as the minimum from the hillclimb.\n",
      "This took 45 iterations.\n"
     ]
    }
   ],
   "source": [
    "def f(x):\n",
    "    return x**4 - 4 * x**3 + 60 * np.sin(x) + 50 * np.cos(x)\n",
    "\n",
    "\n",
    "def derivative_approximation(x, delta_x):\n",
    "    return (f(x + delta_x) - f(x)) / delta_x\n",
    "\n",
    "\n",
    "def find_initial_guess(x, delta_x, poly_degree, lb, ub):\n",
    "    \"\"\"\n",
    "    Guesses a minimum using a polyfit to a derivative approximation.\n",
    "    Means of finding the initial guess to eliminate the scenarios where the\n",
    "    hillclimb gets stuck in a local minimum rather than a global one.\n",
    "    \"\"\"\n",
    "    # find approximate derivative values in the interval according to the\n",
    "    # definition with a small delta x\n",
    "    approximate_derivative = derivative_approximation(x, delta_x)\n",
    "    derivative_fit = np.polyfit(x, approximate_derivative, poly_degree)\n",
    "    # find the roots of this polynomial\n",
    "    roots = np.roots(derivative_fit)\n",
    "    # filter them wrt boundary conditions\n",
    "    filtered_roots = np.sort(roots[np.logical_and(roots < ub, roots > lb)])\n",
    "    # initial guess is the root where the value of the function is smallest\n",
    "    return filtered_roots[np.argmin(f(filtered_roots))], derivative_fit\n",
    "\n",
    "\n",
    "def hill_climbing(x_start, step, tolerance):\n",
    "    \"\"\"\"\"\n",
    "    Adapted from PHYS20161 example code (lect. Lloyd Cawthorne)\n",
    "    \"\"\" \"\"\n",
    "    difference = 1\n",
    "    minimum = f(x_start)\n",
    "    counter = 0\n",
    "\n",
    "    while difference > tolerance:\n",
    "        counter += 1\n",
    "        minimum_test_minus = f(x_start - step)\n",
    "        minimum_test_plus = f(x_start + step)\n",
    "        if minimum_test_minus < minimum:\n",
    "            x_start -= step\n",
    "            difference = minimum - minimum_test_minus\n",
    "            minimum = f(x_start)\n",
    "        elif f(x_start + step) < minimum:\n",
    "            x_start += step\n",
    "            difference = minimum - minimum_test_plus\n",
    "            minimum = f(x_start)\n",
    "        else:\n",
    "            step = step * 0.1\n",
    "    return x_start, minimum, counter\n",
    "\n",
    "\n",
    "def random_start():\n",
    "    return lb + np.random.rand() * (ub - lb)\n",
    "\n",
    "\n",
    "def plot_result(x, x_minimum, starting_values):\n",
    "    figure = plt.figure()\n",
    "\n",
    "    plot = figure.add_subplot(111)\n",
    "    plot.set_title(\"Hillclimb result\")\n",
    "    plot.set_xlabel(\"x\", fontsize=14)\n",
    "    plot.set_ylabel(\"y\", fontsize=14)\n",
    "\n",
    "    plot.scatter(\n",
    "        np.real(starting_values),\n",
    "        f(np.real(starting_values)),\n",
    "        s=100,\n",
    "        label=r\"$x_0$\",\n",
    "        color=\"grey\",\n",
    "        alpha=0.5,\n",
    "    )\n",
    "    plot.scatter(\n",
    "        np.real(x_minimum),\n",
    "        f(np.real(x_minimum)),\n",
    "        label=r\"$x_{{min}} = {0:.2f}$\".format(np.real(x_minimum)),\n",
    "        color=\"red\",\n",
    "    )\n",
    "    plot.plot(x, f(x))\n",
    "    plot.legend(fontsize=14)\n",
    "    plt.show()\n",
    "    return None\n",
    "\n",
    "\n",
    "delta_x = 0.01\n",
    "step = 0.01\n",
    "tolerance = 0.00001\n",
    "poly_degree = 10\n",
    "lb = -4.0\n",
    "ub = 6.0\n",
    "total_searches = 5\n",
    "\n",
    "x = np.arange(lb, ub, 0.1)\n",
    "fx = f(x)\n",
    "\n",
    "initial_guess, derivative_fit = find_initial_guess(x, delta_x, poly_degree, lb, ub)\n",
    "\n",
    "approximate_derivative = derivative_approximation(x, delta_x)\n",
    "polynomial_derivative_approximation = np.polyval(derivative_fit, x)\n",
    "\n",
    "fig = plt.figure()\n",
    "ax_1 = fig.add_subplot(111)\n",
    "\n",
    "ax_1.plot(x, fx, label=\"$f(x)$\")\n",
    "ax_1.plot(x, approximate_derivative, label=r\"$f'(x)$\")\n",
    "ax_1.plot(x, polynomial_derivative_approximation, \"--\", label=r\"$f'(x)$ fit\")\n",
    "ax_1.scatter(np.real(initial_guess), f(np.real(initial_guess)), label=r\"$x_0$\")\n",
    "ax_1.set_title(\"Guessing $x_0, f'(x)$ polyfit\")\n",
    "ax_1.set_xlabel(\"x\", fontsize=14, fontname=\"Arial\")\n",
    "ax_1.set_ylabel(\"y\", fontsize=14, fontname=\"Arial\")\n",
    "ax_1.legend(loc=\"upper center\", fontsize=10)\n",
    "plt.tight_layout()\n",
    "\n",
    "starting_values = np.array([initial_guess])\n",
    "x_minimum, minimum, count = hill_climbing(initial_guess, step, tolerance)\n",
    "searches = 1\n",
    "while searches < total_searches:\n",
    "    searches += 1\n",
    "    x_start = random_start()\n",
    "    starting_values = np.append(starting_values, initial_guess)\n",
    "    (x_minimum_test, minimum_test, count_temp) = hill_climbing(\n",
    "        initial_guess, step, tolerance\n",
    "    )\n",
    "    if minimum_test < minimum:\n",
    "        minimum = minimum_test\n",
    "        x_minimum = x_minimum_test\n",
    "    count += count_temp\n",
    "plot_result(x, x_minimum, starting_values)\n",
    "print(\n",
    "    \"f({0:.4f}) = {1:.4f} was found as the minimum from the hillclimb.\".format(\n",
    "        np.real(x_minimum), np.real(minimum)\n",
    "    )\n",
    ")\n",
    "print(\"This took {:d} iterations.\".format(count))\n"
   ]
  },
  {
   "cell_type": "code",
   "execution_count": null,
   "metadata": {},
   "outputs": [],
   "source": []
  }
 ],
 "metadata": {
  "kernelspec": {
   "display_name": "Python 3 (ipykernel)",
   "language": "python",
   "name": "python3"
  },
  "language_info": {
   "codemirror_mode": {
    "name": "ipython",
    "version": 3
   },
   "file_extension": ".py",
   "mimetype": "text/x-python",
   "name": "python",
   "nbconvert_exporter": "python",
   "pygments_lexer": "ipython3",
   "version": "3.9.7"
  }
 },
 "nbformat": 4,
 "nbformat_minor": 2
}
